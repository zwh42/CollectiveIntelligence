{
 "cells": [
  {
   "cell_type": "markdown",
   "metadata": {},
   "source": [
    "## Recommendation Movies"
   ]
  },
  {
   "cell_type": "code",
   "execution_count": 2,
   "metadata": {
    "collapsed": false
   },
   "outputs": [
    {
     "name": "stdout",
     "output_type": "stream",
     "text": [
      "item =  Snakes on a Plane\n",
      "item =  Superman Returns\n",
      "item =  You, Me and Dupree\n",
      "0.258245699761\n"
     ]
    }
   ],
   "source": [
    "# A dictionary of movie critics and their ratings of a small\n",
    "# set of movies\n",
    "critics={'Lisa Rose': {'Lady in the Water': 2.5, 'Snakes on a Plane': 3.5,\n",
    " 'Just My Luck': 3.0, 'Superman Returns': 3.5, 'You, Me and Dupree': 2.5, \n",
    " 'The Night Listener': 3.0},\n",
    "'Gene Seymour': {'Lady in the Water': 3.0, 'Snakes on a Plane': 3.5, \n",
    " 'Just My Luck': 1.5, 'Superman Returns': 5.0, 'The Night Listener': 3.0, \n",
    " 'You, Me and Dupree': 3.5}, \n",
    "'Michael Phillips': {'Lady in the Water': 2.5, 'Snakes on a Plane': 3.0,\n",
    " 'Superman Returns': 3.5, 'The Night Listener': 4.0},\n",
    "'Claudia Puig': {'Snakes on a Plane': 3.5, 'Just My Luck': 3.0,\n",
    " 'The Night Listener': 4.5, 'Superman Returns': 4.0, \n",
    " 'You, Me and Dupree': 2.5},\n",
    "'Mick LaSalle': {'Lady in the Water': 3.0, 'Snakes on a Plane': 4.0, \n",
    " 'Just My Luck': 2.0, 'Superman Returns': 3.0, 'The Night Listener': 3.0,\n",
    " 'You, Me and Dupree': 2.0}, \n",
    "'Jack Matthews': {'Lady in the Water': 3.0, 'Snakes on a Plane': 4.0,\n",
    " 'The Night Listener': 3.0, 'Superman Returns': 5.0, 'You, Me and Dupree': 3.5},\n",
    "'Toby': {'Snakes on a Plane':4.5,'You, Me and Dupree':1.0,'Superman Returns':4.0}}\n",
    "\n",
    "\n",
    "from math import sqrt\n",
    "\n",
    "# similarity distance between \n",
    "def sim_distance(prefs, person1, person2):\n",
    "    si = {}\n",
    "    for item in prefs[person1]:\n",
    "        if item in prefs[person2]:\n",
    "            si[item] = 1\n",
    "            \n",
    "            \n",
    "    if len(si) == 0:\n",
    "        return 0\n",
    "    \n",
    "    \n",
    "    sum_of_suqares = sum([pow(prefs[person1][item] - prefs[person2][item], 2) for item in prefs[person1] if item in prefs[person2]])\n",
    "    \n",
    "    return 1 / (1.0 + sqrt(sum_of_suqares))\n",
    "\n",
    "    \n",
    "print sim_distance(critics, \"Gene Seymour\", \"Toby\")\n",
    "    "
   ]
  },
  {
   "cell_type": "code",
   "execution_count": 10,
   "metadata": {
    "collapsed": false
   },
   "outputs": [
    {
     "name": "stdout",
     "output_type": "stream",
     "text": [
      "0.396059017191\n"
     ]
    }
   ],
   "source": [
    "#Peason correlation score\n",
    "#https://en.wikipedia.org/wiki/Pearson_product-moment_correlation_coefficient\n",
    "\n",
    "def sim_pearson_distance(prefs, person1, person2):\n",
    "    si = {}\n",
    "    for item in prefs[person1]:\n",
    "        if item in prefs[person2]:\n",
    "            si[item] = 1\n",
    "            \n",
    "    n = len(si)\n",
    "    \n",
    "    if n == 0:\n",
    "        return 0\n",
    "    \n",
    "    sum1 = sum([prefs[person1][item] for item in si])\n",
    "    sum2 = sum([prefs[person2][item] for item in si])\n",
    "    \n",
    "    sq_sum1 = sum([pow(prefs[person1][item], 2) for item in si])\n",
    "    sq_sum2 = sum([pow(prefs[person2][item], 2) for item in si])\n",
    "    \n",
    "    product_sum = sum([prefs[person1][item] * prefs[person2][item] for item in si])\n",
    "    \n",
    "    num = (product_sum - sum1 * sum2/n)\n",
    "    den = sqrt((sq_sum1 - pow(sum1, 2) / n) * (sq_sum2 - pow(sum2, 2)/n))\n",
    "    if den == 0:\n",
    "        return 0\n",
    "    \n",
    "    r = num / den\n",
    "    \n",
    "    return r\n",
    "  \n",
    "    \n",
    "print sim_pearson_distance(critics, \"Gene Seymour\", \"Lisa Rose\")    "
   ]
  },
  {
   "cell_type": "code",
   "execution_count": 14,
   "metadata": {
    "collapsed": false
   },
   "outputs": [
    {
     "name": "stdout",
     "output_type": "stream",
     "text": [
      "[(0.9912407071619299, 'Lisa Rose'), (0.9244734516419049, 'Mick LaSalle'), (0.8934051474415647, 'Claudia Puig')]\n"
     ]
    }
   ],
   "source": [
    "def top_matches(prefs, person, n = 5, similarity = sim_pearson_distance):\n",
    "    scores = [(similarity(prefs, person, other), other) for other in prefs if other != person]\n",
    "    \n",
    "    scores.sort()\n",
    "    scores.reverse()\n",
    "    return scores[0:n]\n",
    "\n",
    "print top_matches(critics, \"Toby\", 3)\n"
   ]
  },
  {
   "cell_type": "code",
   "execution_count": 20,
   "metadata": {
    "collapsed": false
   },
   "outputs": [
    {
     "name": "stdout",
     "output_type": "stream",
     "text": [
      "[(3.3477895267131013, 'The Night Listener'), (2.8325499182641614, 'Lady in the Water'), (2.5309807037655645, 'Just My Luck')]\n"
     ]
    }
   ],
   "source": [
    "def get_recommendations(prefs, person, similarity = sim_pearson_distance):\n",
    "    totals = {}\n",
    "    sim_sums = {}\n",
    "    for other in prefs:\n",
    "        if other == person:\n",
    "            continue\n",
    "        \n",
    "        sim = similarity(prefs, person, other)\n",
    "        if sim <= 0:  #quite different preference\n",
    "            continue\n",
    "            \n",
    "        for item in prefs[other]:\n",
    "            if item not in prefs[person] or prefs[person][item] == 0:\n",
    "                totals.setdefault(item, 0)\n",
    "                totals[item] += prefs[other][item] * sim\n",
    "                sim_sums.setdefault(item, 0)\n",
    "                sim_sums[item] += sim\n",
    "        \n",
    "    \n",
    "\n",
    "    \n",
    "    rankings = [((total/sim_sums[item]), item) for item, total in totals.items()]\n",
    "    \n",
    "    rankings.sort()\n",
    "    rankings.reverse()\n",
    "    return rankings\n",
    "\n",
    "print get_recommendations(critics, \"Toby\")\n",
    "\n",
    "                "
   ]
  },
  {
   "cell_type": "markdown",
   "metadata": {},
   "source": [
    "## Matching Products"
   ]
  },
  {
   "cell_type": "code",
   "execution_count": 30,
   "metadata": {
    "collapsed": false
   },
   "outputs": [
    {
     "name": "stdout",
     "output_type": "stream",
     "text": [
      "[(4.0, 'Michael Phillips'), (3.0, 'Jack Matthews')]\n"
     ]
    }
   ],
   "source": [
    "def transform_prefs(prefs):\n",
    "    result = {}\n",
    "    for person in prefs:\n",
    "        for item in prefs[person]:\n",
    "            if prefs[person][item] == None :\n",
    "                continue\n",
    "                \n",
    "            result.setdefault(item, {})            \n",
    "            result[item][person] = prefs[person][item]\n",
    "            \n",
    "    return result\n",
    "\n",
    "movies = transform_prefs(critics)\n",
    "\n",
    "print get_recommendations(movies, \"Just My Luck\")\n"
   ]
  },
  {
   "cell_type": "code",
   "execution_count": null,
   "metadata": {
    "collapsed": true
   },
   "outputs": [],
   "source": []
  }
 ],
 "metadata": {
  "kernelspec": {
   "display_name": "Python 2",
   "language": "python",
   "name": "python2"
  },
  "language_info": {
   "codemirror_mode": {
    "name": "ipython",
    "version": 2
   },
   "file_extension": ".py",
   "mimetype": "text/x-python",
   "name": "python",
   "nbconvert_exporter": "python",
   "pygments_lexer": "ipython2",
   "version": "2.7.12"
  }
 },
 "nbformat": 4,
 "nbformat_minor": 0
}
