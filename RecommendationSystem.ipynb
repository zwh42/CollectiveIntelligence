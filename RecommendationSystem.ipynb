{
 "cells": [
  {
   "cell_type": "markdown",
   "metadata": {},
   "source": [
    "## Recommendation Movies"
   ]
  },
  {
   "cell_type": "code",
   "execution_count": 12,
   "metadata": {
    "collapsed": false
   },
   "outputs": [
    {
     "name": "stdout",
     "output_type": "stream",
     "text": [
      "0.258245699761\n"
     ]
    }
   ],
   "source": [
    "# A dictionary of movie critics and their ratings of a small\n",
    "# set of movies\n",
    "critics={'Lisa Rose': {'Lady in the Water': 2.5, 'Snakes on a Plane': 3.5,\n",
    " 'Just My Luck': 3.0, 'Superman Returns': 3.5, 'You, Me and Dupree': 2.5, \n",
    " 'The Night Listener': 3.0},\n",
    "'Gene Seymour': {'Lady in the Water': 3.0, 'Snakes on a Plane': 3.5, \n",
    " 'Just My Luck': 1.5, 'Superman Returns': 5.0, 'The Night Listener': 3.0, \n",
    " 'You, Me and Dupree': 3.5}, \n",
    "'Michael Phillips': {'Lady in the Water': 2.5, 'Snakes on a Plane': 3.0,\n",
    " 'Superman Returns': 3.5, 'The Night Listener': 4.0},\n",
    "'Claudia Puig': {'Snakes on a Plane': 3.5, 'Just My Luck': 3.0,\n",
    " 'The Night Listener': 4.5, 'Superman Returns': 4.0, \n",
    " 'You, Me and Dupree': 2.5},\n",
    "'Mick LaSalle': {'Lady in the Water': 3.0, 'Snakes on a Plane': 4.0, \n",
    " 'Just My Luck': 2.0, 'Superman Returns': 3.0, 'The Night Listener': 3.0,\n",
    " 'You, Me and Dupree': 2.0}, \n",
    "'Jack Matthews': {'Lady in the Water': 3.0, 'Snakes on a Plane': 4.0,\n",
    " 'The Night Listener': 3.0, 'Superman Returns': 5.0, 'You, Me and Dupree': 3.5},\n",
    "'Toby': {'Snakes on a Plane':4.5,'You, Me and Dupree':1.0,'Superman Returns':4.0}}\n",
    "\n",
    "\n",
    "from math import sqrt\n",
    "\n",
    "# similarity distance between \n",
    "def sim_distance(prefs, person1, person2):\n",
    "    si = {}\n",
    "    for item in prefs[person1]:\n",
    "        if item in prefs[person2]:\n",
    "            si[item] = 1\n",
    "            \n",
    "            \n",
    "    if len(si) == 0:\n",
    "        return 0\n",
    "    \n",
    "    \n",
    "    sum_of_suqares = sum([pow(prefs[person1][item] - prefs[person2][item], 2) for item in prefs[person1] if item in prefs[person2]])\n",
    "    \n",
    "    return 1 / (1.0 + sqrt(sum_of_suqares))\n",
    "\n",
    "    \n",
    "print sim_distance(critics, \"Gene Seymour\", \"Toby\")\n",
    "    "
   ]
  },
  {
   "cell_type": "code",
   "execution_count": 13,
   "metadata": {
    "collapsed": false
   },
   "outputs": [
    {
     "name": "stdout",
     "output_type": "stream",
     "text": [
      "0.396059017191\n"
     ]
    }
   ],
   "source": [
    "#Peason correlation score\n",
    "#https://en.wikipedia.org/wiki/Pearson_product-moment_correlation_coefficient\n",
    "\n",
    "def sim_pearson_distance(prefs, person1, person2):\n",
    "    si = {}\n",
    "    for item in prefs[person1]:\n",
    "        if item in prefs[person2]:\n",
    "            si[item] = 1\n",
    "            \n",
    "    n = len(si)\n",
    "    \n",
    "    if n == 0:\n",
    "        return 0\n",
    "    \n",
    "    sum1 = sum([prefs[person1][item] for item in si])\n",
    "    sum2 = sum([prefs[person2][item] for item in si])\n",
    "    \n",
    "    sq_sum1 = sum([pow(prefs[person1][item], 2) for item in si])\n",
    "    sq_sum2 = sum([pow(prefs[person2][item], 2) for item in si])\n",
    "    \n",
    "    product_sum = sum([prefs[person1][item] * prefs[person2][item] for item in si])\n",
    "    \n",
    "    num = (product_sum - sum1 * sum2/n)\n",
    "    den = sqrt((sq_sum1 - pow(sum1, 2) / n) * (sq_sum2 - pow(sum2, 2)/n))\n",
    "    if den == 0:\n",
    "        return 0\n",
    "    \n",
    "    r = num / den\n",
    "    \n",
    "    return r\n",
    "  \n",
    "    \n",
    "print sim_pearson_distance(critics, \"Gene Seymour\", \"Lisa Rose\")    "
   ]
  },
  {
   "cell_type": "code",
   "execution_count": 14,
   "metadata": {
    "collapsed": false
   },
   "outputs": [
    {
     "name": "stdout",
     "output_type": "stream",
     "text": [
      "[(0.9912407071619299, 'Lisa Rose'), (0.9244734516419049, 'Mick LaSalle'), (0.8934051474415647, 'Claudia Puig')]\n"
     ]
    }
   ],
   "source": [
    "def top_matches(prefs, person, n = 5, similarity = sim_pearson_distance):\n",
    "    scores = [(similarity(prefs, person, other), other) for other in prefs if other != person]\n",
    "    \n",
    "    scores.sort()\n",
    "    scores.reverse()\n",
    "    return scores[0:n]\n",
    "\n",
    "print top_matches(critics, \"Toby\", 3)\n"
   ]
  },
  {
   "cell_type": "code",
   "execution_count": 15,
   "metadata": {
    "collapsed": false
   },
   "outputs": [
    {
     "name": "stdout",
     "output_type": "stream",
     "text": [
      "[(3.3477895267131013, 'The Night Listener'), (2.8325499182641614, 'Lady in the Water'), (2.5309807037655645, 'Just My Luck')]\n"
     ]
    }
   ],
   "source": [
    "def get_recommendations(prefs, person, similarity = sim_pearson_distance):\n",
    "    totals = {}\n",
    "    sim_sums = {}\n",
    "    for other in prefs:\n",
    "        if other == person:\n",
    "            continue\n",
    "        \n",
    "        sim = similarity(prefs, person, other)\n",
    "        if sim <= 0:  #quite different preference\n",
    "            continue\n",
    "            \n",
    "        for item in prefs[other]:\n",
    "            if item not in prefs[person] or prefs[person][item] == 0:\n",
    "                totals.setdefault(item, 0)\n",
    "                totals[item] += prefs[other][item] * sim\n",
    "                sim_sums.setdefault(item, 0)\n",
    "                sim_sums[item] += sim\n",
    "        \n",
    "    \n",
    "\n",
    "    \n",
    "    rankings = [((total/sim_sums[item]), item) for item, total in totals.items()]\n",
    "    \n",
    "    rankings.sort()\n",
    "    rankings.reverse()\n",
    "    return rankings\n",
    "\n",
    "print get_recommendations(critics, \"Toby\")\n",
    "\n",
    "                "
   ]
  },
  {
   "cell_type": "markdown",
   "metadata": {},
   "source": [
    "## Matching Products"
   ]
  },
  {
   "cell_type": "code",
   "execution_count": 16,
   "metadata": {
    "collapsed": false
   },
   "outputs": [
    {
     "name": "stdout",
     "output_type": "stream",
     "text": [
      "[(4.0, 'Michael Phillips'), (3.0, 'Jack Matthews')]\n"
     ]
    }
   ],
   "source": [
    "def transform_prefs(prefs):\n",
    "    result = {}\n",
    "    for person in prefs:\n",
    "        for item in prefs[person]:\n",
    "            if prefs[person][item] == None :\n",
    "                continue\n",
    "                \n",
    "            result.setdefault(item, {})            \n",
    "            result[item][person] = prefs[person][item]\n",
    "            \n",
    "    return result\n",
    "\n",
    "movies = transform_prefs(critics)\n",
    "\n",
    "print get_recommendations(movies, \"Just My Luck\")\n"
   ]
  },
  {
   "cell_type": "code",
   "execution_count": 17,
   "metadata": {
    "collapsed": false
   },
   "outputs": [
    {
     "name": "stdout",
     "output_type": "stream",
     "text": [
      "{'Lady in the Water': [(0.7637626158259785, 'Snakes on a Plane'), (0.4879500364742689, 'Superman Returns'), (0.3333333333333333, 'You, Me and Dupree'), (-0.6123724356957927, 'The Night Listener'), (-0.9449111825230676, 'Just My Luck')], 'Snakes on a Plane': [(0.7637626158259785, 'Lady in the Water'), (0.11180339887498941, 'Superman Returns'), (-0.3333333333333333, 'Just My Luck'), (-0.5663521139548527, 'The Night Listener'), (-0.6454972243679047, 'You, Me and Dupree')], 'Just My Luck': [(0.5555555555555556, 'The Night Listener'), (-0.3333333333333333, 'Snakes on a Plane'), (-0.42289003161103106, 'Superman Returns'), (-0.4856618642571827, 'You, Me and Dupree'), (-0.9449111825230676, 'Lady in the Water')], 'Superman Returns': [(0.6579516949597695, 'You, Me and Dupree'), (0.4879500364742689, 'Lady in the Water'), (0.11180339887498941, 'Snakes on a Plane'), (-0.1798471947990544, 'The Night Listener'), (-0.42289003161103106, 'Just My Luck')], 'You, Me and Dupree': [(0.6579516949597695, 'Superman Returns'), (0.3333333333333333, 'Lady in the Water'), (-0.250000000000002, 'The Night Listener'), (-0.4856618642571827, 'Just My Luck'), (-0.6454972243679047, 'Snakes on a Plane')], 'The Night Listener': [(0.5555555555555556, 'Just My Luck'), (-0.1798471947990544, 'Superman Returns'), (-0.250000000000002, 'You, Me and Dupree'), (-0.5663521139548527, 'Snakes on a Plane'), (-0.6123724356957927, 'Lady in the Water')]}\n"
     ]
    }
   ],
   "source": [
    "def calculate_similar_items(prefs, n = 10):\n",
    "    result = {}\n",
    "    item_prefs = transform_prefs(prefs)\n",
    "    \n",
    "    c = 0\n",
    "    for item in item_prefs:\n",
    "        c += 1\n",
    "        if c % 100 == 0:\n",
    "            print \"%d / %d\" % (c, len(item_prefs))\n",
    "        \n",
    "        scores = top_matches(item_prefs,  item, n = n, similarity = sim_pearson_distance)\n",
    "        result[item] = scores\n",
    "        \n",
    "    return result\n",
    "\n",
    "print calculate_similar_items(critics)"
   ]
  },
  {
   "cell_type": "code",
   "execution_count": 21,
   "metadata": {
    "collapsed": false
   },
   "outputs": [
    {
     "name": "stdout",
     "output_type": "stream",
     "text": [
      "[(3.610031066802182, 'Lady in the Water'), (3.531395034185976, 'The Night Listener'), (2.9609998607242685, 'Just My Luck')]\n"
     ]
    }
   ],
   "source": [
    "def get_recommended_items(prefs, item_match, user):\n",
    "    user_ratings = prefs[user]\n",
    "    scores = {}\n",
    "    total_sim = {}\n",
    "    \n",
    "    for (item, rating) in user_ratings.items():\n",
    "        for (similarity, item2) in item_match[item]:\n",
    "            if item2  in user_ratings:\n",
    "                continue\n",
    "            \n",
    "            scores.setdefault(item2, 0)\n",
    "            scores[item2] += similarity * rating\n",
    "            \n",
    "            total_sim.setdefault(item2, 0)\n",
    "            total_sim[item2] += similarity\n",
    "            \n",
    "    # rankings = [(score/total_sim[item], item) for item, score in scores.items()] #normalization\n",
    "    rankings = []\n",
    "    for item, score in scores.items():\n",
    "        if total_sim[item] == 0:\n",
    "            print \"item = \", item, \", score = \", score, \"total_sim = \", total_sim[item]\n",
    "        rankings.append((score/total_sim[item], item))\n",
    "    \n",
    "    rankings.sort(reverse = True)\n",
    "    return rankings\n",
    "\n",
    "print get_recommended_items(critics, calculate_similar_items(critics), \"Toby\")\n",
    "\n",
    "    "
   ]
  },
  {
   "cell_type": "code",
   "execution_count": 23,
   "metadata": {
    "collapsed": false
   },
   "outputs": [
    {
     "name": "stdout",
     "output_type": "stream",
     "text": [
      "start analyzing...\n",
      "100 / 3706\n",
      "200 / 3706\n",
      "300 / 3706\n",
      "400 / 3706\n",
      "500 / 3706\n",
      "600 / 3706\n",
      "700 / 3706\n",
      "800 / 3706\n",
      "900 / 3706\n",
      "1000 / 3706\n",
      "1100 / 3706\n",
      "1200 / 3706\n",
      "1300 / 3706\n",
      "1400 / 3706\n",
      "1500 / 3706\n",
      "1600 / 3706\n",
      "1700 / 3706\n",
      "1800 / 3706\n",
      "1900 / 3706\n",
      "2000 / 3706\n",
      "2100 / 3706\n",
      "2200 / 3706\n",
      "2300 / 3706\n",
      "2400 / 3706\n",
      "2500 / 3706\n",
      "2600 / 3706\n",
      "2700 / 3706\n",
      "2800 / 3706\n",
      "2900 / 3706\n",
      "3000 / 3706\n",
      "3100 / 3706\n",
      "3200 / 3706\n",
      "3300 / 3706\n",
      "3400 / 3706\n",
      "3500 / 3706\n",
      "3600 / 3706\n",
      "3700 / 3706\n",
      "[(5.0, 'Window to Paris (1994)'), (5.0, 'Ugly, The (1997)'), (5.0, 'Trans (1998)'), (5.0, 'Train of Life (Train De Vie) (1998)'), (5.0, 'Time of the Gypsies (Dom za vesanje) (1989)'), (5.0, 'Theodore Rex (1995)'), (5.0, 'Taffin (1988)'), (5.0, 'Synthetic Pleasures (1995)'), (5.0, 'Stonewall (1995)'), (5.0, 'Seven Chances (1925)'), (5.0, 'Second Best (1994)'), (5.0, 'Roadside Prophets (1992)'), (5.0, \"Pot O' Gold (1941)\"), (5.0, 'Pandora and the Flying Dutchman (1951)'), (5.0, 'N\\xe9nette et Boni (1996)'), (5.0, 'Nosferatu a Venezia (1986)'), (5.0, 'Marlene Dietrich: Shadow and Light (1996)'), (5.0, 'Male and Female (1919)'), (5.0, 'Little Men (1998)'), (5.0, 'Jail Bait (1954)'), (5.0, 'Impact (1949)'), (5.0, 'Held Up (2000)'), (5.0, 'Grosse Fatigue (1994)'), (5.0, 'Grateful Dead (1995)'), (5.0, 'Full Tilt Boogie (1997)'), (5.0, 'Frogs for Snakes (1998)'), (5.0, 'Dingo (1992)'), (5.0, 'Different for Girls (1996)'), (5.0, 'Carriers Are Waiting, The (Les Convoyeurs Attendent) (1999)'), (5.0, 'Carried Away (1996)'), (5.0, 'Born to Win (1971)'), (5.0, 'Black Tar Heroin: The Dark End of the Street (1999)'), (4.6, 'Zero Kelvin (Kj\\xe6rlighetens kj\\xf8tere) (1995)'), (4.500000000000001, 'King in New York, A (1957)'), (4.5, 'Year of the Horse (1997)'), (4.5, 'Walk in the Sun, A (1945)'), (4.5, 'Time Tracers (1995)'), (4.5, 'Talking About Sex (1994)'), (4.5, 'Talk of Angels (1998)'), (4.5, 'Sudden Manhattan (1996)'), (4.5, 'Small Wonders (1996)'), (4.5, 'Separation, The (La S\\xe9paration) (1994)'), (4.5, 'Rent-a-Kid (1995)'), (4.5, 'Love, etc. (1996)'), (4.428571428571429, 'Wedding Bell Blues (1996)'), (4.4, 'Tough and Deadly (1995)'), (4.333333333333333, 'Spiders, The (Die Spinnen, 1. Teil: Der Goldene See) (1919)'), (4.333333333333333, 'Sacco and Vanzetti (Sacco e Vanzetti) (1971)'), (4.285714285714286, 'Sunset Park (1996)'), (4.25, 'Tigrero: A Film That Was Never Made (1994)'), (4.222222222222222, 'Story of Xinghua, The (1993)'), (4.111111111111111, 'War at Home, The (1996)'), (4.000000000000002, \"Those Who Love Me Can Take the Train (Ceux qui m'aiment prendront le train) (1998)\"), (4.000000000000001, 'So Dear to My Heart (1949)'), (4.0, 'Young and Innocent (1937)'), (4.0, 'Voyage of the Damned (1976)'), (4.0, 'Vampyros Lesbos (Las Vampiras) (1970)'), (4.0, 'Two Much (1996)'), (4.0, 'Turn It Up (2000)'), (4.0, 'Trick or Treat (1986)'), (4.0, 'Tomb of Ligeia, The (1965)'), (4.0, 'Tokyo Fist (1995)'), (4.0, 'To Have, or Not (1995)'), (4.0, 'Swept from the Sea (1997)'), (4.0, 'Substance of Fire, The (1996)'), (4.0, 'Stag (1997)'), (4.0, 'Soft Fruit (1999)'), (4.0, 'Snows of Kilimanjaro, The (1952)'), (4.0, 'Snowriders (1996)'), (4.0, 'Six Ways to Sunday (1997)'), (4.0, 'Simon Sez (1999)'), (4.0, 'Shooter, The (1995)'), (4.0, 'Seventh Heaven (Le Septi\\xe8me ciel) (1997)'), (4.0, 'Secret Agent, The (1996)'), (4.0, 'Savior (1998)'), (4.0, 'Santitos (1997)'), (4.0, 'Rosie (1998)'), (4.0, 'Return with Honor (1998)'), (4.0, 'Regret to Inform (1998)'), (4.0, 'Railroaded! (1947)'), (4.0, 'Race the Sun (1996)'), (4.0, 'Price of Glory (2000)'), (4.0, 'Peanuts - Die Bank zahlt alles (1996)'), (4.0, 'Paris, France (1993)'), (4.0, 'Paralyzing Fear: The Story of Polio in America, A (1998)'), (4.0, 'On Any Sunday (1971)'), (4.0, 'Neon Bible, The (1995)'), (4.0, 'Nelly & Monsieur Arnaud (1995)'), (4.0, \"My Life and Times With Antonin Artaud (En compagnie d'Antonin Artaud) (1993)\"), (4.0, 'Montana (1998)'), (4.0, 'Modern Affair, A (1995)'), (4.0, 'Man of the Century (1999)'), (4.0, 'Mamma Roma (1962)'), (4.0, 'Little Boy Blue (1997)'), (4.0, 'Journey of August King, The (1995)'), (4.0, 'Jerry & Tom (1998)'), (4.0, 'Heaven (1998)'), (4.0, 'Hav Plenty (1997)'), (4.0, 'Hangmen Also Die (1943)'), (4.0, 'Feast of July (1995)'), (4.0, 'Death in the Garden (Mort en ce jardin, La) (1956)'), (4.0, 'Dark Command (1940)'), (4.0, 'Cavalcade (1933)'), (4.0, 'Across the Sea of Time (1995)'), (3.875, 'Sticky Fingers of Time, The (1997)'), (3.666666666666667, 'Very Natural Thing, A (1974)'), (3.6666666666666665, 'Wife, The (1995)'), (3.5, 'Wings of Courage (1995)'), (3.5, 'Went to Coney Island on a Mission From God... Be Back by Five (1998)'), (3.5, 'Two Thousand Maniacs! (1964)'), (3.5, 'Two Bits (1995)'), (3.5, 'Slumber Party Massacre III, The (1990)'), (3.5, 'Shopping (1994)'), (3.5, 'Penitentiary II (1982)'), (3.333333333333334, 'Six of a Kind (1934)'), (3.0, 'Zed & Two Noughts, A (1985)'), (3.0, 'Wonderful, Horrible Life of Leni Riefenstahl, The (Die Macht der Bilder) (1993)'), (3.0, 'West Beirut (West Beyrouth) (1998)'), (3.0, 'Two or Three Things I Know About Her (1966)'), (3.0, 'Suburbans, The (1999)'), (3.0, 'Stranger in the House (1997)'), (3.0, 'Sour Grapes (1998)'), (3.0, 'Smile Like Yours, A (1997)'), (3.0, 'Sixth Man, The (1997)'), (3.0, 'Search for One-eye Jimmy, The (1996)'), (3.0, \"Relax... It's Just Sex (1998)\"), (3.0, 'Pajama Party (1964)'), (3.0, 'Love Stinks (1999)'), (3.0, 'Limbo (1999)'), (3.0, 'Kicked in the Head (1997)'), (3.0, 'Glory Daze (1996)'), (3.0, \"Gentleman's Agreement (1947)\"), (3.0, 'Effect of Gamma Rays on Man-in-the-Moon Marigolds, The (1972)'), (3.0, 'Diamonds (1999)'), (3.0, 'Cousin Bette (1998)'), (3.0, 'Chopping Mall (a.k.a. Killbots) (1986)'), (2.0, 'X: The Unknown (1956)'), (2.0, 'Winter Guest, The (1997)'), (2.0, 'Double Happiness (1994)'), (2.0, 'Cool as Ice (1991)'), (2.0, 'Amityville: A New Generation (1993)'), (2.0, \"All the Rage (a.k.a. It's the Rage) (1999)\")]\n",
      "finished\n"
     ]
    }
   ],
   "source": [
    "def load_movie_lens(path):\n",
    "    movies = {}\n",
    "    for line in open(path + r\"\\movies.dat\"):\n",
    "        (movie_id, title) = line.split(\"::\")[0:2]\n",
    "        movies[movie_id] = title\n",
    "    \n",
    "    prefs = {}\n",
    "    for line in open(path + r\"\\ratings.dat\"):\n",
    "        (user_id, movie_id, rating) = line.split(\"::\")[0:3]\n",
    "        prefs.setdefault(user_id, {})\n",
    "        prefs[user_id][movies[movie_id]] = float(rating)\n",
    "        \n",
    "    return movies, prefs\n",
    "        \n",
    "path = r\"C:\\Localdata\\data\\CollectiveIntelligence\\ml-1m\\\\\"\n",
    "\n",
    "movies, prefs = load_movie_lens(path)\n",
    "\n",
    "\n",
    "\n",
    "print \"start analyzing...\"\n",
    "print get_recommended_items(prefs, calculate_similar_items(prefs), \"20\")\n",
    "print \"finished\""
   ]
  },
  {
   "cell_type": "code",
   "execution_count": null,
   "metadata": {
    "collapsed": true
   },
   "outputs": [],
   "source": []
  },
  {
   "cell_type": "code",
   "execution_count": null,
   "metadata": {
    "collapsed": true
   },
   "outputs": [],
   "source": []
  }
 ],
 "metadata": {
  "anaconda-cloud": {},
  "kernelspec": {
   "display_name": "Python 2",
   "language": "python",
   "name": "python2"
  },
  "language_info": {
   "codemirror_mode": {
    "name": "ipython",
    "version": 2
   },
   "file_extension": ".py",
   "mimetype": "text/x-python",
   "name": "python",
   "nbconvert_exporter": "python",
   "pygments_lexer": "ipython2",
   "version": "2.7.12"
  }
 },
 "nbformat": 4,
 "nbformat_minor": 0
}
