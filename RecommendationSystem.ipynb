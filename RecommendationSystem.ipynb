{
 "cells": [
  {
   "cell_type": "markdown",
   "metadata": {},
   "source": [
    "## Recommendation Movies"
   ]
  },
  {
   "cell_type": "code",
   "execution_count": 1,
   "metadata": {
    "collapsed": false
   },
   "outputs": [
    {
     "name": "stdout",
     "output_type": "stream",
     "text": [
      "0.258245699761\n"
     ]
    }
   ],
   "source": [
    "# A dictionary of movie critics and their ratings of a small\n",
    "# set of movies\n",
    "critics={'Lisa Rose': {'Lady in the Water': 2.5, 'Snakes on a Plane': 3.5,\n",
    " 'Just My Luck': 3.0, 'Superman Returns': 3.5, 'You, Me and Dupree': 2.5, \n",
    " 'The Night Listener': 3.0},\n",
    "'Gene Seymour': {'Lady in the Water': 3.0, 'Snakes on a Plane': 3.5, \n",
    " 'Just My Luck': 1.5, 'Superman Returns': 5.0, 'The Night Listener': 3.0, \n",
    " 'You, Me and Dupree': 3.5}, \n",
    "'Michael Phillips': {'Lady in the Water': 2.5, 'Snakes on a Plane': 3.0,\n",
    " 'Superman Returns': 3.5, 'The Night Listener': 4.0},\n",
    "'Claudia Puig': {'Snakes on a Plane': 3.5, 'Just My Luck': 3.0,\n",
    " 'The Night Listener': 4.5, 'Superman Returns': 4.0, \n",
    " 'You, Me and Dupree': 2.5},\n",
    "'Mick LaSalle': {'Lady in the Water': 3.0, 'Snakes on a Plane': 4.0, \n",
    " 'Just My Luck': 2.0, 'Superman Returns': 3.0, 'The Night Listener': 3.0,\n",
    " 'You, Me and Dupree': 2.0}, \n",
    "'Jack Matthews': {'Lady in the Water': 3.0, 'Snakes on a Plane': 4.0,\n",
    " 'The Night Listener': 3.0, 'Superman Returns': 5.0, 'You, Me and Dupree': 3.5},\n",
    "'Toby': {'Snakes on a Plane':4.5,'You, Me and Dupree':1.0,'Superman Returns':4.0}}\n",
    "\n",
    "\n",
    "from math import sqrt\n",
    "\n",
    "# similarity distance between \n",
    "def sim_distance(prefs, person1, person2):\n",
    "    si = {}\n",
    "    for item in prefs[person1]:\n",
    "        if item in prefs[person2]:\n",
    "            si[item] = 1\n",
    "            \n",
    "            \n",
    "    if len(si) == 0:\n",
    "        return 0\n",
    "    \n",
    "    \n",
    "    sum_of_suqares = sum([pow(prefs[person1][item] - prefs[person2][item], 2) for item in prefs[person1] if item in prefs[person2]])\n",
    "    \n",
    "    return 1 / (1.0 + sqrt(sum_of_suqares))\n",
    "\n",
    "    \n",
    "print sim_distance(critics, \"Gene Seymour\", \"Toby\")\n",
    "    "
   ]
  },
  {
   "cell_type": "code",
   "execution_count": 2,
   "metadata": {
    "collapsed": false
   },
   "outputs": [
    {
     "name": "stdout",
     "output_type": "stream",
     "text": [
      "0.396059017191\n"
     ]
    }
   ],
   "source": [
    "#Peason correlation score\n",
    "#https://en.wikipedia.org/wiki/Pearson_product-moment_correlation_coefficient\n",
    "\n",
    "def sim_pearson_distance(prefs, person1, person2):\n",
    "    si = {}\n",
    "    for item in prefs[person1]:\n",
    "        if item in prefs[person2]:\n",
    "            si[item] = 1\n",
    "            \n",
    "    n = len(si)\n",
    "    \n",
    "    if n == 0:\n",
    "        return 0\n",
    "    \n",
    "    sum1 = sum([prefs[person1][item] for item in si])\n",
    "    sum2 = sum([prefs[person2][item] for item in si])\n",
    "    \n",
    "    sq_sum1 = sum([pow(prefs[person1][item], 2) for item in si])\n",
    "    sq_sum2 = sum([pow(prefs[person2][item], 2) for item in si])\n",
    "    \n",
    "    product_sum = sum([prefs[person1][item] * prefs[person2][item] for item in si])\n",
    "    \n",
    "    num = (product_sum - sum1 * sum2/n)\n",
    "    den = sqrt((sq_sum1 - pow(sum1, 2) / n) * (sq_sum2 - pow(sum2, 2)/n))\n",
    "    if den == 0:\n",
    "        return 0\n",
    "    \n",
    "    r = num / den\n",
    "    \n",
    "    return r\n",
    "  \n",
    "    \n",
    "print sim_pearson_distance(critics, \"Gene Seymour\", \"Lisa Rose\")    "
   ]
  },
  {
   "cell_type": "code",
   "execution_count": 3,
   "metadata": {
    "collapsed": false
   },
   "outputs": [
    {
     "name": "stdout",
     "output_type": "stream",
     "text": [
      "[(0.9912407071619299, 'Lisa Rose'), (0.9244734516419049, 'Mick LaSalle'), (0.8934051474415647, 'Claudia Puig')]\n"
     ]
    }
   ],
   "source": [
    "def top_matches(prefs, person, n = 5, similarity = sim_pearson_distance):\n",
    "    scores = [(similarity(prefs, person, other), other) for other in prefs if other != person]\n",
    "    \n",
    "    scores.sort()\n",
    "    scores.reverse()\n",
    "    return scores[0:n]\n",
    "\n",
    "print top_matches(critics, \"Toby\", 3)\n"
   ]
  },
  {
   "cell_type": "code",
   "execution_count": 4,
   "metadata": {
    "collapsed": false
   },
   "outputs": [
    {
     "name": "stdout",
     "output_type": "stream",
     "text": [
      "[(3.3477895267131013, 'The Night Listener'), (2.8325499182641614, 'Lady in the Water'), (2.5309807037655645, 'Just My Luck')]\n"
     ]
    }
   ],
   "source": [
    "def get_recommendations(prefs, person, similarity = sim_pearson_distance):\n",
    "    totals = {}\n",
    "    sim_sums = {}\n",
    "    for other in prefs:\n",
    "        if other == person:\n",
    "            continue\n",
    "        \n",
    "        sim = similarity(prefs, person, other)\n",
    "        if sim <= 0:  #quite different preference\n",
    "            continue\n",
    "            \n",
    "        for item in prefs[other]:\n",
    "            if item not in prefs[person] or prefs[person][item] == 0:\n",
    "                totals.setdefault(item, 0)\n",
    "                totals[item] += prefs[other][item] * sim\n",
    "                sim_sums.setdefault(item, 0)\n",
    "                sim_sums[item] += sim\n",
    "        \n",
    "    \n",
    "\n",
    "    \n",
    "    rankings = [((total/sim_sums[item]), item) for item, total in totals.items()]\n",
    "    \n",
    "    rankings.sort()\n",
    "    rankings.reverse()\n",
    "    return rankings\n",
    "\n",
    "print get_recommendations(critics, \"Toby\")\n",
    "\n",
    "                "
   ]
  },
  {
   "cell_type": "markdown",
   "metadata": {},
   "source": [
    "## Matching Products"
   ]
  },
  {
   "cell_type": "code",
   "execution_count": 5,
   "metadata": {
    "collapsed": false
   },
   "outputs": [
    {
     "name": "stdout",
     "output_type": "stream",
     "text": [
      "[(4.0, 'Michael Phillips'), (3.0, 'Jack Matthews')]\n"
     ]
    }
   ],
   "source": [
    "def transform_prefs(prefs):\n",
    "    result = {}\n",
    "    for person in prefs:\n",
    "        for item in prefs[person]:\n",
    "            if prefs[person][item] == None :\n",
    "                continue\n",
    "                \n",
    "            result.setdefault(item, {})            \n",
    "            result[item][person] = prefs[person][item]\n",
    "            \n",
    "    return result\n",
    "\n",
    "movies = transform_prefs(critics)\n",
    "\n",
    "print get_recommendations(movies, \"Just My Luck\")\n"
   ]
  },
  {
   "cell_type": "code",
   "execution_count": 6,
   "metadata": {
    "collapsed": false
   },
   "outputs": [
    {
     "name": "stdout",
     "output_type": "stream",
     "text": [
      "{'Lady in the Water': [(0.7637626158259785, 'Snakes on a Plane'), (0.4879500364742689, 'Superman Returns'), (0.3333333333333333, 'You, Me and Dupree'), (-0.6123724356957927, 'The Night Listener'), (-0.9449111825230676, 'Just My Luck')], 'Snakes on a Plane': [(0.7637626158259785, 'Lady in the Water'), (0.11180339887498941, 'Superman Returns'), (-0.3333333333333333, 'Just My Luck'), (-0.5663521139548527, 'The Night Listener'), (-0.6454972243679047, 'You, Me and Dupree')], 'Just My Luck': [(0.5555555555555556, 'The Night Listener'), (-0.3333333333333333, 'Snakes on a Plane'), (-0.42289003161103106, 'Superman Returns'), (-0.4856618642571827, 'You, Me and Dupree'), (-0.9449111825230676, 'Lady in the Water')], 'Superman Returns': [(0.6579516949597695, 'You, Me and Dupree'), (0.4879500364742689, 'Lady in the Water'), (0.11180339887498941, 'Snakes on a Plane'), (-0.1798471947990544, 'The Night Listener'), (-0.42289003161103106, 'Just My Luck')], 'You, Me and Dupree': [(0.6579516949597695, 'Superman Returns'), (0.3333333333333333, 'Lady in the Water'), (-0.250000000000002, 'The Night Listener'), (-0.4856618642571827, 'Just My Luck'), (-0.6454972243679047, 'Snakes on a Plane')], 'The Night Listener': [(0.5555555555555556, 'Just My Luck'), (-0.1798471947990544, 'Superman Returns'), (-0.250000000000002, 'You, Me and Dupree'), (-0.5663521139548527, 'Snakes on a Plane'), (-0.6123724356957927, 'Lady in the Water')]}\n"
     ]
    }
   ],
   "source": [
    "def calculate_similar_items(prefs, n = 10):\n",
    "    result = {}\n",
    "    item_prefs = transform_prefs(prefs)\n",
    "    \n",
    "    c = 0\n",
    "    for item in item_prefs:\n",
    "        c += 1\n",
    "        if c % 100 == 0:\n",
    "            print \"%d / %d\" % (c, len(item_prefs))\n",
    "        \n",
    "        scores = top_matches(item_prefs,  item, n = n, similarity = sim_pearson_distance)\n",
    "        result[item] = scores\n",
    "        \n",
    "    return result\n",
    "\n",
    "print calculate_similar_items(critics)"
   ]
  },
  {
   "cell_type": "code",
   "execution_count": 7,
   "metadata": {
    "collapsed": false
   },
   "outputs": [
    {
     "name": "stdout",
     "output_type": "stream",
     "text": [
      "[(3.610031066802182, 'Lady in the Water'), (3.531395034185976, 'The Night Listener'), (2.9609998607242685, 'Just My Luck')]\n"
     ]
    }
   ],
   "source": [
    "def get_recommended_items(prefs, item_match, user):\n",
    "    user_ratings = prefs[user]\n",
    "    scores = {}\n",
    "    total_sim = {}\n",
    "    \n",
    "    for (item, rating) in user_ratings.items():\n",
    "        for (similarity, item2) in item_match[item]:\n",
    "            if item2  in user_ratings:\n",
    "                continue\n",
    "            \n",
    "            scores.setdefault(item2, 0)\n",
    "            scores[item2] += similarity * rating\n",
    "            \n",
    "            total_sim.setdefault(item2, 0)\n",
    "            total_sim[item2] += similarity\n",
    "            \n",
    "    rankings = [(score/total_sim[item], item) for item, score in scores.items()] #normalization\n",
    "    \n",
    "    rankings.sort(reverse = True)\n",
    "    return rankings\n",
    "\n",
    "print get_recommended_items(critics, calculate_similar_items(critics), \"Toby\")\n",
    "\n",
    "    "
   ]
  },
  {
   "cell_type": "code",
   "execution_count": 9,
   "metadata": {
    "collapsed": false
   },
   "outputs": [
    {
     "name": "stdout",
     "output_type": "stream",
     "text": [
      "start analyzing...\n",
      "100 / 3706\n",
      "200 / 3706\n",
      "300 / 3706\n",
      "400 / 3706\n",
      "500 / 3706\n",
      "600 / 3706\n",
      "700 / 3706\n",
      "800 / 3706\n",
      "900 / 3706\n",
      "1000 / 3706\n",
      "1100 / 3706\n",
      "1200 / 3706\n",
      "1300 / 3706\n",
      "1400 / 3706\n",
      "1500 / 3706\n",
      "1600 / 3706\n",
      "1700 / 3706\n",
      "1800 / 3706\n",
      "1900 / 3706\n",
      "2000 / 3706\n",
      "2100 / 3706\n",
      "2200 / 3706\n",
      "2300 / 3706\n",
      "2400 / 3706\n",
      "2500 / 3706\n",
      "2600 / 3706\n",
      "2700 / 3706\n",
      "2800 / 3706\n",
      "2900 / 3706\n",
      "3000 / 3706\n",
      "3100 / 3706\n",
      "3200 / 3706\n",
      "3300 / 3706\n",
      "3400 / 3706\n",
      "3500 / 3706\n",
      "3600 / 3706\n",
      "3700 / 3706\n"
     ]
    },
    {
     "ename": "ZeroDivisionError",
     "evalue": "float division by zero",
     "output_type": "error",
     "traceback": [
      "\u001b[0;31m---------------------------------------------------------------------------\u001b[0m",
      "\u001b[0;31mZeroDivisionError\u001b[0m                         Traceback (most recent call last)",
      "\u001b[0;32m<ipython-input-9-6aa728642a7a>\u001b[0m in \u001b[0;36m<module>\u001b[0;34m()\u001b[0m\n\u001b[1;32m     20\u001b[0m \u001b[0;34m\u001b[0m\u001b[0m\n\u001b[1;32m     21\u001b[0m \u001b[0;32mprint\u001b[0m \u001b[0;34m\"start analyzing...\"\u001b[0m\u001b[0;34m\u001b[0m\u001b[0m\n\u001b[0;32m---> 22\u001b[0;31m \u001b[0;32mprint\u001b[0m \u001b[0mget_recommended_items\u001b[0m\u001b[0;34m(\u001b[0m\u001b[0mprefs\u001b[0m\u001b[0;34m,\u001b[0m \u001b[0mcalculate_similar_items\u001b[0m\u001b[0;34m(\u001b[0m\u001b[0mprefs\u001b[0m\u001b[0;34m)\u001b[0m\u001b[0;34m,\u001b[0m \u001b[0;34m\"87\"\u001b[0m\u001b[0;34m)\u001b[0m\u001b[0;34m\u001b[0m\u001b[0m\n\u001b[0m\u001b[1;32m     23\u001b[0m \u001b[0;32mprint\u001b[0m \u001b[0;34m\"finished\"\u001b[0m\u001b[0;34m\u001b[0m\u001b[0m\n",
      "\u001b[0;32m<ipython-input-7-4b550db32194>\u001b[0m in \u001b[0;36mget_recommended_items\u001b[0;34m(prefs, item_match, user)\u001b[0m\n\u001b[1;32m     15\u001b[0m             \u001b[0mtotal_sim\u001b[0m\u001b[0;34m[\u001b[0m\u001b[0mitem2\u001b[0m\u001b[0;34m]\u001b[0m \u001b[0;34m+=\u001b[0m \u001b[0msimilarity\u001b[0m\u001b[0;34m\u001b[0m\u001b[0m\n\u001b[1;32m     16\u001b[0m \u001b[0;34m\u001b[0m\u001b[0m\n\u001b[0;32m---> 17\u001b[0;31m     \u001b[0mrankings\u001b[0m \u001b[0;34m=\u001b[0m \u001b[0;34m[\u001b[0m\u001b[0;34m(\u001b[0m\u001b[0mscore\u001b[0m\u001b[0;34m/\u001b[0m\u001b[0mtotal_sim\u001b[0m\u001b[0;34m[\u001b[0m\u001b[0mitem\u001b[0m\u001b[0;34m]\u001b[0m\u001b[0;34m,\u001b[0m \u001b[0mitem\u001b[0m\u001b[0;34m)\u001b[0m \u001b[0;32mfor\u001b[0m \u001b[0mitem\u001b[0m\u001b[0;34m,\u001b[0m \u001b[0mscore\u001b[0m \u001b[0;32min\u001b[0m \u001b[0mscores\u001b[0m\u001b[0;34m.\u001b[0m\u001b[0mitems\u001b[0m\u001b[0;34m(\u001b[0m\u001b[0;34m)\u001b[0m\u001b[0;34m]\u001b[0m \u001b[0;31m#normalization\u001b[0m\u001b[0;34m\u001b[0m\u001b[0m\n\u001b[0m\u001b[1;32m     18\u001b[0m \u001b[0;34m\u001b[0m\u001b[0m\n\u001b[1;32m     19\u001b[0m     \u001b[0mrankings\u001b[0m\u001b[0;34m.\u001b[0m\u001b[0msort\u001b[0m\u001b[0;34m(\u001b[0m\u001b[0mreverse\u001b[0m \u001b[0;34m=\u001b[0m \u001b[0mTrue\u001b[0m\u001b[0;34m)\u001b[0m\u001b[0;34m\u001b[0m\u001b[0m\n",
      "\u001b[0;31mZeroDivisionError\u001b[0m: float division by zero"
     ]
    }
   ],
   "source": [
    "def load_movie_lens(path):\n",
    "    movies = {}\n",
    "    for line in open(path + \"/movies.dat\"):\n",
    "        (movie_id, title) = line.split(\"::\")[0:2]\n",
    "        movies[movie_id] = title\n",
    "    \n",
    "    prefs = {}\n",
    "    for line in open(path + \"ratings.dat\"):\n",
    "        (user_id, movie_id, rating) = line.split(\"::\")[0:3]\n",
    "        prefs.setdefault(user_id, {})\n",
    "        prefs[user_id][movies[movie_id]] = float(rating)\n",
    "        \n",
    "    return movies, prefs\n",
    "        \n",
    "path = \"/Users/zhaowenhao/Downloads/ml-1m/\"\n",
    "\n",
    "movies, prefs = load_movie_lens(path)\n",
    "\n",
    "\n",
    "\n",
    "print \"start analyzing...\"\n",
    "print get_recommended_items(prefs, calculate_similar_items(prefs), \"87\")\n",
    "print \"finished\""
   ]
  },
  {
   "cell_type": "code",
   "execution_count": null,
   "metadata": {
    "collapsed": true
   },
   "outputs": [],
   "source": []
  },
  {
   "cell_type": "code",
   "execution_count": null,
   "metadata": {
    "collapsed": true
   },
   "outputs": [],
   "source": []
  }
 ],
 "metadata": {
  "anaconda-cloud": {},
  "kernelspec": {
   "display_name": "Python 2",
   "language": "python",
   "name": "python2"
  },
  "language_info": {
   "codemirror_mode": {
    "name": "ipython",
    "version": 2
   },
   "file_extension": ".py",
   "mimetype": "text/x-python",
   "name": "python",
   "nbconvert_exporter": "python",
   "pygments_lexer": "ipython2",
   "version": "2.7.12"
  }
 },
 "nbformat": 4,
 "nbformat_minor": 0
}
